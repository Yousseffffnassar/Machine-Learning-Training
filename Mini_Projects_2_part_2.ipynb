{
  "nbformat": 4,
  "nbformat_minor": 0,
  "metadata": {
    "colab": {
      "name": "Mini_Projects_2/ part 2.ipynb",
      "provenance": [],
      "collapsed_sections": [],
      "toc_visible": true,
      "include_colab_link": true
    },
    "kernelspec": {
      "name": "python3",
      "display_name": "Python 3"
    }
  },
  "cells": [
    {
      "cell_type": "markdown",
      "metadata": {
        "id": "view-in-github",
        "colab_type": "text"
      },
      "source": [
        "<a href=\"https://colab.research.google.com/github/Yousseffffnassar/Machine-Learning-Training/blob/main/Mini_Projects_2_part_2.ipynb\" target=\"_parent\"><img src=\"https://colab.research.google.com/assets/colab-badge.svg\" alt=\"Open In Colab\"/></a>"
      ]
    },
    {
      "cell_type": "markdown",
      "metadata": {
        "id": "c2sSEq3uSurn"
      },
      "source": [
        "# Files and Exceptions"
      ]
    },
    {
      "cell_type": "markdown",
      "metadata": {
        "id": "qw2XyRs-TWIF"
      },
      "source": [
        "**8. Sum of Numbers** <br>\n",
        "Assume that a file containing a series of integers is named numbers.txt and exists on the computer’s disk. Write a program that reads all of the numbers stored in the file and calculates their total.\n"
      ]
    },
    {
      "cell_type": "code",
      "metadata": {
        "id": "92EStR9KSu8N",
        "colab": {
          "base_uri": "https://localhost:8080/"
        },
        "outputId": "1ca573dc-e9cc-412e-ce59-427f76c1c0f4"
      },
      "source": [
        "import random as rand\n",
        "\n",
        "#Frist create file\n",
        "num = open('number.txt','w')\n",
        "for n in range(rand.randrange(0,10)):\n",
        "  num.write(str(rand.randrange(0,10)) + \"\\n\")\n",
        "num.close()\n",
        "\n",
        "#Now the task:\n",
        "\n",
        "num = open('number.txt','r')\n",
        "sum = 0\n",
        "for line in num:\n",
        "  value = int(line)\n",
        "  print(value)\n",
        "  sum = sum + value\n",
        "\n",
        "print(\"The total =  \" + str(sum))"
      ],
      "execution_count": 12,
      "outputs": [
        {
          "output_type": "stream",
          "text": [
            "9\n",
            "1\n",
            "1\n",
            "9\n",
            "8\n",
            "0\n",
            "9\n",
            "The total =  37\n"
          ],
          "name": "stdout"
        }
      ]
    },
    {
      "cell_type": "code",
      "metadata": {
        "id": "B7GImG_lSu-u"
      },
      "source": [
        ""
      ],
      "execution_count": null,
      "outputs": []
    },
    {
      "cell_type": "markdown",
      "metadata": {
        "id": "gW0mWcdDVgK4"
      },
      "source": [
        "**9. Average of Numbers** <br>\n",
        "Assume that a file containing a series of integers is named numbers.txt and exists on the computer’s disk. Write a program that calculates the average of all the numbers stored in\n",
        "the file"
      ]
    },
    {
      "cell_type": "code",
      "metadata": {
        "id": "3-DZx-vnSvCe",
        "colab": {
          "base_uri": "https://localhost:8080/"
        },
        "outputId": "265531b0-722a-447d-d7d1-b7a3152d95c2"
      },
      "source": [
        "import random as rand\n",
        "\n",
        "#Frist create file\n",
        "num = open('number.txt','w')\n",
        "for n in range(rand.randrange(1,11)):\n",
        "  num.write(str(rand.randrange(0,10)) + \"\\n\")\n",
        "num.close()\n",
        "\n",
        "#Now the task:\n",
        "\n",
        "num = open('number.txt','r')\n",
        "sum = 0\n",
        "x = 0\n",
        "for line in num:\n",
        "  x = x + 1\n",
        "  print(int(line))\n",
        "  sum = sum + int(line)\n",
        "\n",
        "print(\"The average =  \" + str(sum / x))"
      ],
      "execution_count": 48,
      "outputs": [
        {
          "output_type": "stream",
          "text": [
            "8\n",
            "0\n",
            "1\n",
            "9\n",
            "7\n",
            "1\n",
            "7\n",
            "7\n",
            "The average =  5.0\n"
          ],
          "name": "stdout"
        }
      ]
    },
    {
      "cell_type": "markdown",
      "metadata": {
        "id": "vjchCYETVwPx"
      },
      "source": [
        "**10. Random Number File Writer**<br>\n",
        "Write a program that writes a series of random numbers to a file. Each random number should be in the range of 1 \n",
        "through 500. The application should let the user specify how\n",
        "many random numbers the file will hold.\n"
      ]
    },
    {
      "cell_type": "code",
      "metadata": {
        "id": "DCyba_BZVxLF",
        "colab": {
          "base_uri": "https://localhost:8080/"
        },
        "outputId": "971503be-e5dc-43e9-d53d-be4c85f34908"
      },
      "source": [
        "import random as rand\n",
        "\n",
        "x = int(input(\"how many random numbers you want the file to hold : \"))\n",
        "num = open('number.txt','w')\n",
        "for n in range(x):\n",
        "  num.write(str(rand.randrange(1,500)) + \"\\n\")\n",
        "num.close()\n",
        "\n",
        "print(\"Done, go check it\")"
      ],
      "execution_count": 38,
      "outputs": [
        {
          "output_type": "stream",
          "text": [
            "how many random numbers you want the file to hold : 5\n",
            "Done, go check it\n"
          ],
          "name": "stdout"
        }
      ]
    },
    {
      "cell_type": "code",
      "metadata": {
        "id": "uZ7CQJM0VxN5"
      },
      "source": [
        ""
      ],
      "execution_count": null,
      "outputs": []
    },
    {
      "cell_type": "markdown",
      "metadata": {
        "id": "p75ZKqbXWMdY"
      },
      "source": [
        "**11.  Exception Handing** <br>\n",
        "Modify the program that you wrote for Exercise 9 so it handles the following exceptions: <br>\n",
        "* It should handle any IOError exceptions that are raised when the file is opened and data\n",
        "is read from it. <br>\n",
        "* It should handle any ValueError exceptions that are raised when the items that are read from the file are converted to a number."
      ]
    },
    {
      "cell_type": "code",
      "metadata": {
        "id": "22SOHQbrVxRE",
        "colab": {
          "base_uri": "https://localhost:8080/"
        },
        "outputId": "a6a95dc2-9818-4db4-9d7e-ef27754f89fa"
      },
      "source": [
        "import random as rand\n",
        "\n",
        "#Frist create file\n",
        "num = open('number.txt','w')\n",
        "for n in range(rand.randrange(1,11)):\n",
        "  num.write(str(rand.randrange(0,10)) + \"\\n\")\n",
        "num.close()\n",
        "\n",
        "#Now the task:\n",
        "\n",
        "try:\n",
        "  num = open('numbr.txt','r')\n",
        "  sum = 0\n",
        "  x = 0\n",
        "  for line in num:\n",
        "    x = x + 1\n",
        "    print(int(line))\n",
        "    sum = sum + int(line)\n",
        "\n",
        "  print(\"The average =  \" + str(sum / x))\n",
        "except IOError:\n",
        "  print(\"The File you are looking for doesn't exist\")\n",
        "except ValueError:\n",
        "    print('Non-numeric data found in the file.')\n"
      ],
      "execution_count": 56,
      "outputs": [
        {
          "output_type": "stream",
          "text": [
            "The File you are looking for doesn't exist\n"
          ],
          "name": "stdout"
        }
      ]
    },
    {
      "cell_type": "code",
      "metadata": {
        "id": "3p0MENR_WrBV",
        "colab": {
          "base_uri": "https://localhost:8080/"
        },
        "outputId": "96f39bb7-03ed-4927-bd66-6ebe18070005"
      },
      "source": [
        "import random as rand\n",
        "\n",
        "#Frist create file\n",
        "num = open('number.txt','w')\n",
        "list = [\"one\" , \"Two\" , \"Three\" , \"Four\"]\n",
        "for n in list:\n",
        "  num.write( n + \"\\n\")\n",
        "num.close()\n",
        "\n",
        "#Now the task:\n",
        "\n",
        "try:\n",
        "  num = open('number.txt','r')\n",
        "  sum = 0\n",
        "  x = 0\n",
        "  for line in num:\n",
        "    x = x + 1\n",
        "    print(int(line))\n",
        "    sum = sum + int(line)\n",
        "\n",
        "  print(\"The average =  \" + str(sum / x))\n",
        "except IOError:\n",
        "  print(\"The File you are looking for doesn't exist\")\n",
        "except ValueError:\n",
        "    print('Non-numeric data found in the file.')\n"
      ],
      "execution_count": 58,
      "outputs": [
        {
          "output_type": "stream",
          "text": [
            "Non-numeric data found in the file.\n"
          ],
          "name": "stdout"
        }
      ]
    }
  ]
}